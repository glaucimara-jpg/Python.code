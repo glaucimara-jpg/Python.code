{
  "nbformat": 4,
  "nbformat_minor": 0,
  "metadata": {
    "colab": {
      "provenance": [],
      "include_colab_link": true
    },
    "kernelspec": {
      "name": "python3",
      "display_name": "Python 3"
    },
    "language_info": {
      "name": "python"
    }
  },
  "cells": [
    {
      "cell_type": "markdown",
      "metadata": {
        "id": "view-in-github",
        "colab_type": "text"
      },
      "source": [
        "<a href=\"https://colab.research.google.com/github/glaucimara-jpg/Python.code/blob/main/DICION%C3%81RIOS.ipynb\" target=\"_parent\"><img src=\"https://colab.research.google.com/assets/colab-badge.svg\" alt=\"Open In Colab\"/></a>"
      ]
    },
    {
      "cell_type": "code",
      "execution_count": null,
      "metadata": {
        "colab": {
          "base_uri": "https://localhost:8080/"
        },
        "id": "bEk_znVEGeAI",
        "outputId": "afd9203a-6ad8-4b7e-cac1-6912f2806df5"
      },
      "outputs": [
        {
          "output_type": "stream",
          "name": "stdout",
          "text": [
            "{'nome': 'João da Silva', 'idade': 16, 'altura': 1.72, 'rg': '33333333333'}\n"
          ]
        }
      ],
      "source": [
        "#DICIONÁRIOS - ARMAZENAMENTO (key->value) (chave->valor)\n",
        "#VOCÊ PRECISA MANTER ARMAZENADO OS SEGUINTES DADOS DE ALUNO:\n",
        "# NOME, IDADE, ALTURA, RG\n",
        "\n",
        "aluno = {}\n",
        "\n",
        "aluno = {\n",
        "    'nome': 'João da Silva',\n",
        "    'idade': 16,\n",
        "    'altura': 1.72,\n",
        "    'rg' : '33333333333'\n",
        "    }\n",
        "\n",
        "print(aluno)"
      ]
    },
    {
      "cell_type": "code",
      "source": [
        "#Retornar o nome do aluno\n",
        "print(aluno['nome'])\n",
        "print(aluno['idade'])\n",
        "print(aluno['altura'])\n",
        "print(aluno['rg'])"
      ],
      "metadata": {
        "colab": {
          "base_uri": "https://localhost:8080/"
        },
        "id": "tCBip9_eH5Dh",
        "outputId": "3a72790b-e8a9-487c-f762-cb0d2bd3bd61"
      },
      "execution_count": null,
      "outputs": [
        {
          "output_type": "stream",
          "name": "stdout",
          "text": [
            "João da Silva\n",
            "16\n",
            "1.72\n",
            "33333333333\n"
          ]
        }
      ]
    },
    {
      "cell_type": "code",
      "source": [
        "#DICIONÁRIOS SÃO MUTÁVEIS\n",
        "aluno['nome'] = 'Ezequiel'\n",
        "\n",
        "print(aluno)"
      ],
      "metadata": {
        "colab": {
          "base_uri": "https://localhost:8080/"
        },
        "id": "-lW01o_fJtcA",
        "outputId": "65403c78-d60f-4659-a3f2-0c02646d0bfa"
      },
      "execution_count": null,
      "outputs": [
        {
          "output_type": "stream",
          "name": "stdout",
          "text": [
            "{'nome': 'Ezequiel', 'idade': 16, 'altura': 1.72, 'rg': '33333333333'}\n"
          ]
        }
      ]
    },
    {
      "cell_type": "code",
      "source": [
        "#DICIONÁRIOS NÃO ACEITAM VALORES DUPLICADOS NAS CHAVES\n",
        "aluno = {\n",
        "    'nome': 'João da Silva',\n",
        "    'idade': 16,\n",
        "    'idade':19\n",
        "    }\n",
        "print(aluno)\n",
        "\n",
        "#Tamanho do dicionário\n",
        "\n",
        "print(len(aluno))"
      ],
      "metadata": {
        "colab": {
          "base_uri": "https://localhost:8080/"
        },
        "id": "GOkYv3RVJ4fe",
        "outputId": "c34152e2-b339-40f2-ecd1-618f98553c2e"
      },
      "execution_count": null,
      "outputs": [
        {
          "output_type": "stream",
          "name": "stdout",
          "text": [
            "{'nome': 'João da Silva', 'idade': 19}\n",
            "2\n"
          ]
        }
      ]
    },
    {
      "cell_type": "code",
      "source": [
        "#Adicionando um novo valor no dicionário\n",
        "aluno['cidade'] = 'São José dos Campos'"
      ],
      "metadata": {
        "id": "n720RemBLJ3G"
      },
      "execution_count": null,
      "outputs": []
    },
    {
      "cell_type": "code",
      "source": [
        "#Adicionando um novo valor através do update\n",
        "aluno.update({'estado':'SP', 'bairro': 'Aeroporto'})"
      ],
      "metadata": {
        "id": "AVyR2tWeLzkx"
      },
      "execution_count": null,
      "outputs": []
    },
    {
      "cell_type": "code",
      "source": [
        "#Remover um elemento\n",
        "aluno.pop('bairro')"
      ],
      "metadata": {
        "colab": {
          "base_uri": "https://localhost:8080/",
          "height": 35
        },
        "id": "YwFJFPWLMYOg",
        "outputId": "d14a1e84-fc45-4bb1-bce0-b046755f76b6"
      },
      "execution_count": null,
      "outputs": [
        {
          "output_type": "execute_result",
          "data": {
            "text/plain": [
              "'Aeroporto'"
            ],
            "application/vnd.google.colaboratory.intrinsic+json": {
              "type": "string"
            }
          },
          "metadata": {},
          "execution_count": 12
        }
      ]
    },
    {
      "cell_type": "code",
      "source": [
        "#Remover o último elemento\n",
        "aluno.popitem()"
      ],
      "metadata": {
        "colab": {
          "base_uri": "https://localhost:8080/"
        },
        "id": "w7ZZkyceMjyl",
        "outputId": "2762eed7-0180-4427-bc6b-63124dcae2d4"
      },
      "execution_count": null,
      "outputs": [
        {
          "output_type": "execute_result",
          "data": {
            "text/plain": [
              "('estado', 'SP')"
            ]
          },
          "metadata": {},
          "execution_count": 14
        }
      ]
    },
    {
      "cell_type": "code",
      "source": [
        "print(aluno)"
      ],
      "metadata": {
        "colab": {
          "base_uri": "https://localhost:8080/"
        },
        "id": "4r_4D-maLam5",
        "outputId": "8c3c7b74-eeda-4f7a-a956-498ad1ceaab9"
      },
      "execution_count": null,
      "outputs": [
        {
          "output_type": "stream",
          "name": "stdout",
          "text": [
            "{'nome': 'João da Silva', 'idade': 16, 'altura': 1.72, 'rg': '33333333333', 'cidade': 'São José dos Campos'}\n"
          ]
        }
      ]
    },
    {
      "cell_type": "code",
      "source": [
        "lista_frutas = ['abacate', ['Morango', 'Kiwi']]\n",
        "                          #     0         1\n",
        "print(lista_frutas[1][1])\n",
        "'''\n",
        "idiomas = ['inglês', 'espanhol', 'frances']\n",
        "\n",
        "aluno = {\n",
        "    'key' : 'value',\n",
        "    'nome' : input('Digite o seu nome: '),\n",
        "    'idade': int(input('Digite a sua idade')),\n",
        "    'altura': 1.72,\n",
        "    'idiomas': idiomas\n",
        "}\n",
        "\n",
        "print(aluno)\n",
        "'''"
      ],
      "metadata": {
        "id": "k3ojLi-Kv5gc"
      },
      "execution_count": null,
      "outputs": []
    },
    {
      "cell_type": "code",
      "source": [
        "#PREENCHA O FORMS QUE FOI DISPONIBILIZADO PELA EMBRAER, LOGO EM SEGUIDA\n",
        "# RESOLVA OS EXERCÍCIOS SOBRE DICIONÁRIO QUE ESTÃO LOGO ABAIXO.\n",
        "#INICIAREMOS A AULA APÓS ESSAS ATIVIDADES\n",
        "\n",
        "\n"
      ],
      "metadata": {
        "colab": {
          "base_uri": "https://localhost:8080/",
          "height": 88
        },
        "id": "gwvBtgF4Zply",
        "outputId": "a11cd395-94d5-4b1c-d975-94a21f65b47e"
      },
      "execution_count": null,
      "outputs": [
        {
          "output_type": "stream",
          "name": "stdout",
          "text": [
            "Kiwi\n"
          ]
        },
        {
          "output_type": "execute_result",
          "data": {
            "text/plain": [
              "\"\\nidiomas = ['inglês', 'espanhol', 'frances']\\n\\naluno = {\\n    'key' : 'value',\\n    'nome' : input('Digite o seu nome: '),\\n    'idade': int(input('Digite a sua idade')),\\n    'altura': 1.72,\\n    'idiomas': idiomas\\n}\\n\\nprint(aluno)\\n\""
            ],
            "application/vnd.google.colaboratory.intrinsic+json": {
              "type": "string"
            }
          },
          "metadata": {},
          "execution_count": 7
        }
      ]
    },
    {
      "cell_type": "code",
      "source": [
        "#CRIAR UM DICIONÁRIO DE CARROS CONTENDO NOME DO CARRO, COR DO CARRO,\n",
        "#MARCA DO CARRO\n",
        "\n",
        "carro = {\n",
        "    'nome': 'Gol',\n",
        "    'cor': 'Azul',\n",
        "    'marca': 'Volkswagen'\n",
        "}\n",
        "print(carro)"
      ],
      "metadata": {
        "colab": {
          "base_uri": "https://localhost:8080/"
        },
        "id": "owmx-kzuY1qR",
        "outputId": "4fcb5b20-f306-46f4-dc4f-fadd5983333d"
      },
      "execution_count": null,
      "outputs": [
        {
          "output_type": "stream",
          "name": "stdout",
          "text": [
            "{'nome': 'Gol', 'cor': 'Azul', 'marca': 'Volkswagen'}\n"
          ]
        }
      ]
    },
    {
      "cell_type": "code",
      "source": [
        "#EM SEGUIDA ADICIONAR O MODELO DO CARRO E A PLACA DO CARRO\n",
        "#1ª Forma de adição\n",
        "carro['modelo'] = 'G4'\n",
        "print(carro)"
      ],
      "metadata": {
        "colab": {
          "base_uri": "https://localhost:8080/"
        },
        "id": "k3M7gBd_Y7NV",
        "outputId": "4a612e53-cd10-4491-c6ca-77cb2e0a7f09"
      },
      "execution_count": null,
      "outputs": [
        {
          "output_type": "stream",
          "name": "stdout",
          "text": [
            "{'nome': 'Gol', 'cor': 'Azul', 'marca': 'Volkswagen', 'modelo': 'G4'}\n"
          ]
        }
      ]
    },
    {
      "cell_type": "code",
      "source": [
        "#EM SEGUIDA ADICIONAR O MODELO DO CARRO E A PLACA DO CARRO\n",
        "#1ª Forma de adição\n",
        "carro['placa'] = 'AAA-0000'\n",
        "print(carro)"
      ],
      "metadata": {
        "colab": {
          "base_uri": "https://localhost:8080/"
        },
        "id": "_AGLyAwFwqVK",
        "outputId": "05cd5747-9222-400b-e772-716afbad4b96"
      },
      "execution_count": null,
      "outputs": [
        {
          "output_type": "stream",
          "name": "stdout",
          "text": [
            "{'nome': 'Gol', 'cor': 'Azul', 'marca': 'Volkswagen', 'modelo': 'G4', 'placa': 'AAA-0000'}\n"
          ]
        }
      ]
    },
    {
      "cell_type": "code",
      "source": [
        "#EM SEGUIDA ADICIONAR O MODELO DO CARRO E A PLACA DO CARRO\n",
        "#2ª Forma de adição\n",
        "\n",
        "carro.update({'modelo': 'G4', 'placa': 'AAA-0000'})\n",
        "print(carro)"
      ],
      "metadata": {
        "colab": {
          "base_uri": "https://localhost:8080/"
        },
        "id": "W5MEVUaXw1ia",
        "outputId": "8c46cce6-db40-4b5b-bd5d-a52fe1ec2825"
      },
      "execution_count": null,
      "outputs": [
        {
          "output_type": "stream",
          "name": "stdout",
          "text": [
            "{'nome': 'Gol', 'cor': 'Azul', 'marca': 'Volkswagen', 'modelo': 'G4', 'placa': 'AAA-0000'}\n"
          ]
        }
      ]
    },
    {
      "cell_type": "code",
      "source": [
        "#EXCLUA EM SEGUIDA A COR DO CARRO DO DICIONÁRIO\n",
        "carro.pop('cor')\n",
        "\n",
        "#del carro['cor']\n",
        "print(carro)"
      ],
      "metadata": {
        "colab": {
          "base_uri": "https://localhost:8080/"
        },
        "id": "qZrDgNFfY_JM",
        "outputId": "8ffb0145-9764-4af8-b930-82db169ba8d1"
      },
      "execution_count": null,
      "outputs": [
        {
          "output_type": "stream",
          "name": "stdout",
          "text": [
            "{'nome': 'Gol', 'marca': 'Volkswagen', 'modelo': 'G4', 'placa': 'AAA-0000'}\n"
          ]
        }
      ]
    },
    {
      "cell_type": "code",
      "source": [
        "#AGORA CRIE UM DICIONÁRIO VAZIO CHAMADO PESSOA\n",
        "# RECEBA DO USUÁRIO ATRAVÉS DE UM INPUT OS CAMPOS NOME, RG, CPF, IDADE\n",
        "#COLOQUE NO DICIONÁRIO ESSAS INFORMAÇÕES E DEPOIS IMPRIMA O DICIONÁRIO NA TELA (DAS DUAS MANEIRAS POSSÍVEIS)\n",
        "\n",
        "pessoa = {}\n",
        "\n",
        "nome = input('Digite o seu nome: ')\n",
        "rg = input('Digite o seu RG: ')\n",
        "cpf = input('Digite o seu cpf: ')\n",
        "idade = int(input('Digite a sua idade: '))\n",
        "\n",
        "pessoa.update({'nome': nome, 'rg': rg, 'cpf':cpf, 'idade':idade})"
      ],
      "metadata": {
        "colab": {
          "base_uri": "https://localhost:8080/"
        },
        "id": "nDrUGD38ZGAq",
        "outputId": "12b6b8aa-4af7-458c-f1a0-5569126bbc13"
      },
      "execution_count": null,
      "outputs": [
        {
          "name": "stdout",
          "output_type": "stream",
          "text": [
            "Digite o seu nome: João da SIlva\n",
            "Digite o seu RG: 333333333333\n",
            "Digite o seu cpf: 5555555555555\n",
            "Digite a sua idade: 15\n"
          ]
        }
      ]
    },
    {
      "cell_type": "code",
      "source": [
        "print(pessoa)"
      ],
      "metadata": {
        "colab": {
          "base_uri": "https://localhost:8080/"
        },
        "id": "IVF9UteryB5n",
        "outputId": "af62d3ab-7649-4d26-da85-3606a5839a22"
      },
      "execution_count": null,
      "outputs": [
        {
          "output_type": "stream",
          "name": "stdout",
          "text": [
            "{'nome': 'João da SIlva', 'rg': '333333333333', 'cpf': '5555555555555', 'idade': 15}\n"
          ]
        }
      ]
    },
    {
      "cell_type": "code",
      "source": [
        "'''\n",
        "CRIAR O SEGUINTE CENÁRIO ABAIXO COM A UTILIZAÇÃO DE DICIONÁRIOS:\n",
        "\n",
        "Uma família é composta por 3 filhos - Deve-se chamar por filho1, filho2, filho3\n",
        "O retorno será nome, idade, ano_escola, cursos\n",
        "\n",
        "'''\n",
        "\n",
        "familia = {\n",
        "  'filho1': {'nome': 'João',\n",
        "        'idade': 16,\n",
        "        'ano_escola': 1,\n",
        "        'cursos' : ['Python', 'SQL', 'GCP']\n",
        "        },\n",
        "  'filho2': {\n",
        "        'nome': 'Maria',\n",
        "        'idade': 17,\n",
        "        'ano_escola': 2,\n",
        "        'cursos' : ['MongoDB', 'AWS', 'Azure']\n",
        "    },\n",
        "  'filho3': {\n",
        "        'nome': 'Pedro',\n",
        "        'idade': 15,\n",
        "        'ano_escola': 1,\n",
        "        'cursos' : ['Java', 'Azure', 'PHP']\n",
        "    }\n",
        "}"
      ],
      "metadata": {
        "id": "TnRE1tHDYlXW"
      },
      "execution_count": null,
      "outputs": []
    },
    {
      "cell_type": "code",
      "source": [
        "print(familia)"
      ],
      "metadata": {
        "colab": {
          "base_uri": "https://localhost:8080/"
        },
        "id": "KYoSAYst3XaM",
        "outputId": "b5b223d2-03f6-4d28-8e01-9b18461006f3"
      },
      "execution_count": null,
      "outputs": [
        {
          "output_type": "stream",
          "name": "stdout",
          "text": [
            "{'filho1': {'nome': 'João', 'idade': 16, 'ano_escola': 1, 'cursos': ['Python', 'SQL', 'GCP']}, 'filho2': {'nome': 'Maria', 'idade': 17, 'ano_escola': 2, 'cursos': ['MongoDB', 'AWS', 'Azure']}, 'filho3': {'nome': 'Pedro', 'idade': 15, 'ano_escola': 1, 'cursos': ['Java', 'Azure', 'PHP']}}\n"
          ]
        }
      ]
    },
    {
      "cell_type": "code",
      "source": [
        "filho = familia.get('filho1')"
      ],
      "metadata": {
        "id": "g25Hf0upD1-k"
      },
      "execution_count": null,
      "outputs": []
    },
    {
      "cell_type": "code",
      "source": [
        "idade_filho = filho.get('idade')"
      ],
      "metadata": {
        "id": "ZzqWWC-mEETU"
      },
      "execution_count": null,
      "outputs": []
    },
    {
      "cell_type": "code",
      "source": [
        "print(idade_filho)"
      ],
      "metadata": {
        "colab": {
          "base_uri": "https://localhost:8080/"
        },
        "id": "NY33pYeLEJI5",
        "outputId": "170bb187-75dd-4c2c-bad4-91510470b530"
      },
      "execution_count": null,
      "outputs": [
        {
          "output_type": "stream",
          "name": "stdout",
          "text": [
            "16\n"
          ]
        }
      ]
    },
    {
      "cell_type": "code",
      "source": [
        "idade = familia.get('filho4', {}).get('idade', 'Idade não informada!')"
      ],
      "metadata": {
        "id": "hi7zP_8jE2aA"
      },
      "execution_count": null,
      "outputs": []
    },
    {
      "cell_type": "code",
      "source": [
        "print(idade)"
      ],
      "metadata": {
        "colab": {
          "base_uri": "https://localhost:8080/"
        },
        "id": "eBHWfJizGOai",
        "outputId": "c5215792-56ba-451a-86e0-171fb6e7908c"
      },
      "execution_count": null,
      "outputs": [
        {
          "output_type": "stream",
          "name": "stdout",
          "text": [
            "Idade não informada!\n"
          ]
        }
      ]
    },
    {
      "cell_type": "markdown",
      "source": [],
      "metadata": {
        "id": "KPwVLMFzFiey"
      }
    },
    {
      "cell_type": "code",
      "source": [
        "print(idade)"
      ],
      "metadata": {
        "colab": {
          "base_uri": "https://localhost:8080/"
        },
        "id": "srCy65QJFUyB",
        "outputId": "862e2e01-9e5c-4267-cc7d-4f9e6ab4423d"
      },
      "execution_count": null,
      "outputs": [
        {
          "output_type": "stream",
          "name": "stdout",
          "text": [
            "17\n"
          ]
        }
      ]
    },
    {
      "cell_type": "code",
      "source": [
        "#Informações do filho1\n",
        "print(familia['filho1'])\n",
        "#Idade do filho1\n",
        "print(familia['filho1']['idade'])\n",
        "#Cursos do filho1\n",
        "print(familia['filho1']['cursos'])\n",
        "#Segundo curso que o filho1 fez\n",
        "print(familia['filho1']['cursos'][1])"
      ],
      "metadata": {
        "colab": {
          "base_uri": "https://localhost:8080/"
        },
        "id": "fnJvC_mN3ahS",
        "outputId": "27ad497b-e9d1-4558-982b-d02480349c03"
      },
      "execution_count": null,
      "outputs": [
        {
          "output_type": "stream",
          "name": "stdout",
          "text": [
            "{'nome': 'João', 'idade': 16, 'ano_escola': 1, 'cursos': ['Python', 'SQL', 'GCP']}\n",
            "16\n",
            "['Python', 'SQL', 'GCP']\n",
            "SQL\n"
          ]
        }
      ]
    },
    {
      "cell_type": "code",
      "source": [
        "filho = {}\n",
        "familia = {}\n",
        "cont=0\n",
        "for cont in range(1,4):\n",
        "  filho = {}\n",
        "  filho['nome'] = input(f'Digite o nome do {cont}º filho: ')\n",
        "  filho['idade'] = input(f'Digite a idade do {cont}º filho: ')\n",
        "  filho['ano_escolar'] = input(f'Digite o ano escolar do {cont}º filho: ')\n",
        "  filho['cursos'] = input(f'Digite os cursos do {cont}º filho: ')\n",
        "  familia[f'filho{cont}'] = filho\n",
        "  cont += 1\n",
        "\n",
        "f='filho'+input(\"Qual filho deseja as informações: \")\n",
        "print(familia[f])"
      ],
      "metadata": {
        "colab": {
          "base_uri": "https://localhost:8080/",
          "height": 381
        },
        "id": "rhRixAWh4xSK",
        "outputId": "14144493-f9cb-4f58-d6ec-3dc30008e043"
      },
      "execution_count": null,
      "outputs": [
        {
          "output_type": "error",
          "ename": "KeyboardInterrupt",
          "evalue": "Interrupted by user",
          "traceback": [
            "\u001b[0;31m---------------------------------------------------------------------------\u001b[0m",
            "\u001b[0;31mKeyboardInterrupt\u001b[0m                         Traceback (most recent call last)",
            "\u001b[0;32m<ipython-input-29-5bcd4b826e9c>\u001b[0m in \u001b[0;36m<cell line: 4>\u001b[0;34m()\u001b[0m\n\u001b[1;32m      4\u001b[0m \u001b[0;32mfor\u001b[0m \u001b[0mcont\u001b[0m \u001b[0;32min\u001b[0m \u001b[0mrange\u001b[0m\u001b[0;34m(\u001b[0m\u001b[0;36m1\u001b[0m\u001b[0;34m,\u001b[0m\u001b[0;36m4\u001b[0m\u001b[0;34m)\u001b[0m\u001b[0;34m:\u001b[0m\u001b[0;34m\u001b[0m\u001b[0;34m\u001b[0m\u001b[0m\n\u001b[1;32m      5\u001b[0m   \u001b[0mfilho\u001b[0m \u001b[0;34m=\u001b[0m \u001b[0;34m{\u001b[0m\u001b[0;34m}\u001b[0m\u001b[0;34m\u001b[0m\u001b[0;34m\u001b[0m\u001b[0m\n\u001b[0;32m----> 6\u001b[0;31m   \u001b[0mfilho\u001b[0m\u001b[0;34m[\u001b[0m\u001b[0;34m'nome'\u001b[0m\u001b[0;34m]\u001b[0m \u001b[0;34m=\u001b[0m \u001b[0minput\u001b[0m\u001b[0;34m(\u001b[0m\u001b[0;34mf'Digite o nome do {cont}º filho: '\u001b[0m\u001b[0;34m)\u001b[0m\u001b[0;34m\u001b[0m\u001b[0;34m\u001b[0m\u001b[0m\n\u001b[0m\u001b[1;32m      7\u001b[0m   \u001b[0mfilho\u001b[0m\u001b[0;34m[\u001b[0m\u001b[0;34m'idade'\u001b[0m\u001b[0;34m]\u001b[0m \u001b[0;34m=\u001b[0m \u001b[0minput\u001b[0m\u001b[0;34m(\u001b[0m\u001b[0;34mf'Digite a idade do {cont}º filho: '\u001b[0m\u001b[0;34m)\u001b[0m\u001b[0;34m\u001b[0m\u001b[0;34m\u001b[0m\u001b[0m\n\u001b[1;32m      8\u001b[0m   \u001b[0mfilho\u001b[0m\u001b[0;34m[\u001b[0m\u001b[0;34m'ano_escolar'\u001b[0m\u001b[0;34m]\u001b[0m \u001b[0;34m=\u001b[0m \u001b[0minput\u001b[0m\u001b[0;34m(\u001b[0m\u001b[0;34mf'Digite o ano escolar do {cont}º filho: '\u001b[0m\u001b[0;34m)\u001b[0m\u001b[0;34m\u001b[0m\u001b[0;34m\u001b[0m\u001b[0m\n",
            "\u001b[0;32m/usr/local/lib/python3.10/dist-packages/ipykernel/kernelbase.py\u001b[0m in \u001b[0;36mraw_input\u001b[0;34m(self, prompt)\u001b[0m\n\u001b[1;32m    849\u001b[0m                 \u001b[0;34m\"raw_input was called, but this frontend does not support input requests.\"\u001b[0m\u001b[0;34m\u001b[0m\u001b[0;34m\u001b[0m\u001b[0m\n\u001b[1;32m    850\u001b[0m             )\n\u001b[0;32m--> 851\u001b[0;31m         return self._input_request(str(prompt),\n\u001b[0m\u001b[1;32m    852\u001b[0m             \u001b[0mself\u001b[0m\u001b[0;34m.\u001b[0m\u001b[0m_parent_ident\u001b[0m\u001b[0;34m,\u001b[0m\u001b[0;34m\u001b[0m\u001b[0;34m\u001b[0m\u001b[0m\n\u001b[1;32m    853\u001b[0m             \u001b[0mself\u001b[0m\u001b[0;34m.\u001b[0m\u001b[0m_parent_header\u001b[0m\u001b[0;34m,\u001b[0m\u001b[0;34m\u001b[0m\u001b[0;34m\u001b[0m\u001b[0m\n",
            "\u001b[0;32m/usr/local/lib/python3.10/dist-packages/ipykernel/kernelbase.py\u001b[0m in \u001b[0;36m_input_request\u001b[0;34m(self, prompt, ident, parent, password)\u001b[0m\n\u001b[1;32m    893\u001b[0m             \u001b[0;32mexcept\u001b[0m \u001b[0mKeyboardInterrupt\u001b[0m\u001b[0;34m:\u001b[0m\u001b[0;34m\u001b[0m\u001b[0;34m\u001b[0m\u001b[0m\n\u001b[1;32m    894\u001b[0m                 \u001b[0;31m# re-raise KeyboardInterrupt, to truncate traceback\u001b[0m\u001b[0;34m\u001b[0m\u001b[0;34m\u001b[0m\u001b[0m\n\u001b[0;32m--> 895\u001b[0;31m                 \u001b[0;32mraise\u001b[0m \u001b[0mKeyboardInterrupt\u001b[0m\u001b[0;34m(\u001b[0m\u001b[0;34m\"Interrupted by user\"\u001b[0m\u001b[0;34m)\u001b[0m \u001b[0;32mfrom\u001b[0m \u001b[0;32mNone\u001b[0m\u001b[0;34m\u001b[0m\u001b[0;34m\u001b[0m\u001b[0m\n\u001b[0m\u001b[1;32m    896\u001b[0m             \u001b[0;32mexcept\u001b[0m \u001b[0mException\u001b[0m \u001b[0;32mas\u001b[0m \u001b[0me\u001b[0m\u001b[0;34m:\u001b[0m\u001b[0;34m\u001b[0m\u001b[0;34m\u001b[0m\u001b[0m\n\u001b[1;32m    897\u001b[0m                 \u001b[0mself\u001b[0m\u001b[0;34m.\u001b[0m\u001b[0mlog\u001b[0m\u001b[0;34m.\u001b[0m\u001b[0mwarning\u001b[0m\u001b[0;34m(\u001b[0m\u001b[0;34m\"Invalid Message:\"\u001b[0m\u001b[0;34m,\u001b[0m \u001b[0mexc_info\u001b[0m\u001b[0;34m=\u001b[0m\u001b[0;32mTrue\u001b[0m\u001b[0;34m)\u001b[0m\u001b[0;34m\u001b[0m\u001b[0;34m\u001b[0m\u001b[0m\n",
            "\u001b[0;31mKeyboardInterrupt\u001b[0m: Interrupted by user"
          ]
        }
      ]
    },
    {
      "cell_type": "code",
      "source": [
        "# Criar um dicionário vazio para a família\n",
        "familia = {}\n",
        "\n",
        "# Adicionar os filhos ao dicionário\n",
        "familia['filho1'] = {'nome': 'João', 'idade': 12, 'ano_escola': 7, 'cursos': ['Matemática', 'Português', 'Ciências']}\n",
        "familia['filho2'] = {'nome': 'Maria', 'idade': 10, 'ano_escola': 5, 'cursos': ['Matemática', 'Português', 'Arte']}\n",
        "familia['filho3'] = {'nome': 'Pedro', 'idade': 15, 'ano_escola': 9, 'cursos': ['Matemática', 'Português', 'Física', 'Química']}\n",
        "\n",
        "print(\"Dicionário da família: \")\n",
        "\n",
        "# Dicionário da família:\n",
        "{'filho1': {'nome': 'João', 'idade': 12, 'ano_escola': 7, 'cursos': ['Matemática', 'Português', 'Ciências']},\n",
        " 'filho2': {'nome': 'Maria', 'idade': 10, 'ano_escola': 5, 'cursos': ['Matemática', 'Português', 'Arte']},\n",
        " 'filho3': {'nome': 'Pedro', 'idade': 15, 'ano_escola': 9, 'cursos': ['Matemática', 'Português', 'Física', 'Química']}}\n",
        "# Acessar informações de cada filho\n",
        "for filho in familia:\n",
        "    print(f\"Nome: {familia[filho]['nome']}\")\n",
        "    print(f\"Idade: {familia[filho]['idade']}\")\n",
        "    print(f\"Ano_escolar: {familia[filho]['ano_escola']}\")\n",
        "    print(f\"Cursos: {familia[filho]['cursos']}\")\n",
        "    print(\"------------------------\")"
      ],
      "metadata": {
        "colab": {
          "base_uri": "https://localhost:8080/"
        },
        "id": "nFqsDoP_54w1",
        "outputId": "10c031d0-7d52-44c8-d3c2-0456a9ed661a"
      },
      "execution_count": null,
      "outputs": [
        {
          "output_type": "stream",
          "name": "stdout",
          "text": [
            "Dicionário da família: \n",
            "Nome: João\n",
            "Idade: 12\n",
            "Ano_escolar: 7\n",
            "Cursos: ['Matemática', 'Português', 'Ciências']\n",
            "------------------------\n",
            "Nome: Maria\n",
            "Idade: 10\n",
            "Ano_escolar: 5\n",
            "Cursos: ['Matemática', 'Português', 'Arte']\n",
            "------------------------\n",
            "Nome: Pedro\n",
            "Idade: 15\n",
            "Ano_escolar: 9\n",
            "Cursos: ['Matemática', 'Português', 'Física', 'Química']\n",
            "------------------------\n"
          ]
        }
      ]
    },
    {
      "cell_type": "markdown",
      "source": [
        "Métodos de Dicionário"
      ],
      "metadata": {
        "id": "L13SdrD6-971"
      }
    },
    {
      "cell_type": "code",
      "source": [
        "carro = {\n",
        "    'nome': 'Gol',\n",
        "    'cor': 'Azul',\n",
        "    'marca': 'Volkswagen',\n",
        "    'modelo': 'G4',\n",
        "    'placa': 'AAA-0000'\n",
        "}"
      ],
      "metadata": {
        "id": "3Wak0mFp_Gr6"
      },
      "execution_count": null,
      "outputs": []
    },
    {
      "cell_type": "code",
      "source": [
        "#keys()\n",
        "#chaves = carro.keys()\n",
        "\n",
        "for indice in carro.keys():\n",
        "  print(indice)"
      ],
      "metadata": {
        "id": "mMMjk6XX9M-s"
      },
      "execution_count": null,
      "outputs": []
    },
    {
      "cell_type": "code",
      "source": [
        "#values()\n",
        "\n",
        "for valores in carro.values():\n",
        "  print(valores)"
      ],
      "metadata": {
        "colab": {
          "base_uri": "https://localhost:8080/"
        },
        "id": "5TuI4ThVADQO",
        "outputId": "77acf535-6107-4168-9a06-d16c30392db5"
      },
      "execution_count": null,
      "outputs": [
        {
          "output_type": "stream",
          "name": "stdout",
          "text": [
            "Gol\n",
            "Azul\n",
            "Volkswagen\n",
            "G4\n",
            "AAA-0000\n"
          ]
        }
      ]
    },
    {
      "cell_type": "code",
      "source": [
        "#items()\n",
        "\n",
        "for indice, valor in carro.items():\n",
        "  print(indice, valor)"
      ],
      "metadata": {
        "colab": {
          "base_uri": "https://localhost:8080/"
        },
        "id": "vNMu5O7QBucB",
        "outputId": "41da8fe8-5243-40bb-dd33-efe3df5a43ea"
      },
      "execution_count": null,
      "outputs": [
        {
          "output_type": "stream",
          "name": "stdout",
          "text": [
            "nome Gol\n",
            "cor Azul\n",
            "marca Volkswagen\n",
            "modelo G4\n",
            "placa AAA-0000\n"
          ]
        }
      ]
    },
    {
      "cell_type": "code",
      "source": [
        "#Retornar um valor específico\n",
        "\n",
        "print(carro['modelo'])\n"
      ],
      "metadata": {
        "colab": {
          "base_uri": "https://localhost:8080/"
        },
        "id": "ydsiSrnVCHPx",
        "outputId": "e4aea488-7971-4c55-d13c-60cb7e72bf58"
      },
      "execution_count": null,
      "outputs": [
        {
          "output_type": "stream",
          "name": "stdout",
          "text": [
            "G4\n"
          ]
        }
      ]
    },
    {
      "cell_type": "code",
      "source": [
        "#Função que retorna um valor específico\n",
        "print(carro.get('modelo', 'Esse atributo não existe'))"
      ],
      "metadata": {
        "colab": {
          "base_uri": "https://localhost:8080/"
        },
        "id": "yfZ8JLHYCQoh",
        "outputId": "f61275b9-5c00-4b79-d2c4-98dbd6b3cc3e"
      },
      "execution_count": null,
      "outputs": [
        {
          "output_type": "stream",
          "name": "stdout",
          "text": [
            "G4\n"
          ]
        }
      ]
    }
  ]
}