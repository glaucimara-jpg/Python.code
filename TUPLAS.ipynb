{
  "nbformat": 4,
  "nbformat_minor": 0,
  "metadata": {
    "colab": {
      "provenance": [],
      "include_colab_link": true
    },
    "kernelspec": {
      "name": "python3",
      "display_name": "Python 3"
    },
    "language_info": {
      "name": "python"
    }
  },
  "cells": [
    {
      "cell_type": "markdown",
      "metadata": {
        "id": "view-in-github",
        "colab_type": "text"
      },
      "source": [
        "<a href=\"https://colab.research.google.com/github/glaucimara-jpg/Python.code/blob/main/TUPLAS.ipynb\" target=\"_parent\"><img src=\"https://colab.research.google.com/assets/colab-badge.svg\" alt=\"Open In Colab\"/></a>"
      ]
    },
    {
      "cell_type": "code",
      "execution_count": null,
      "metadata": {
        "colab": {
          "base_uri": "https://localhost:8080/"
        },
        "id": "fqoMRAe1CI6R",
        "outputId": "d47d0ac2-1980-4d84-9455-23f12497be82"
      },
      "outputs": [
        {
          "output_type": "stream",
          "name": "stdout",
          "text": [
            "('Abacaxi', 'Caju', 'Acerola', 'Manga')\n",
            "<class 'tuple'>\n"
          ]
        }
      ],
      "source": [
        "#CRIAR UMA TUPLE - IMUTÁVEL\n",
        "frutas = ('Abacaxi', 'Caju', 'Acerola', 'Manga')\n",
        "\n",
        "print(frutas)\n",
        "\n",
        "print(type(frutas))"
      ]
    },
    {
      "cell_type": "code",
      "source": [
        "#Tamanho da tupla\n",
        "print(len(frutas))"
      ],
      "metadata": {
        "colab": {
          "base_uri": "https://localhost:8080/"
        },
        "id": "a6CSYX2JC3vq",
        "outputId": "e237604d-b168-4c2d-8bcc-76f2e7756cb2"
      },
      "execution_count": null,
      "outputs": [
        {
          "output_type": "stream",
          "name": "stdout",
          "text": [
            "4\n"
          ]
        }
      ]
    },
    {
      "cell_type": "code",
      "source": [
        "#Acessando um item de uma tupla\n",
        "print(frutas[1])"
      ],
      "metadata": {
        "colab": {
          "base_uri": "https://localhost:8080/"
        },
        "id": "C4VUSxFQDEGV",
        "outputId": "c1d6a57e-3f24-4c46-f1bd-863021b6e41b"
      },
      "execution_count": null,
      "outputs": [
        {
          "output_type": "stream",
          "name": "stdout",
          "text": [
            "Caju\n"
          ]
        }
      ]
    },
    {
      "cell_type": "code",
      "source": [
        "#Fatiamento\n",
        "print(frutas[::-1])\n",
        "print(frutas[0:2])"
      ],
      "metadata": {
        "colab": {
          "base_uri": "https://localhost:8080/"
        },
        "id": "nTlm1PbcDbXR",
        "outputId": "77c5c49d-b304-4490-89b6-dfa4ea684e0f"
      },
      "execution_count": null,
      "outputs": [
        {
          "output_type": "stream",
          "name": "stdout",
          "text": [
            "('Manga', 'Acerola', 'Caju', 'Abacaxi')\n",
            "('Abacaxi', 'Caju')\n"
          ]
        }
      ]
    },
    {
      "cell_type": "code",
      "source": [
        "print(frutas)\n",
        "frutas = list(frutas)\n",
        "\n",
        "print(frutas)\n",
        "print(type(frutas))\n",
        "\n",
        "frutas.append('Maracuja')\n",
        "\n",
        "frutas = tuple(lista_frutas)\n",
        "\n",
        "print(frutas)\n",
        "print(type(frutas))\n",
        "\n"
      ],
      "metadata": {
        "colab": {
          "base_uri": "https://localhost:8080/"
        },
        "id": "hXQUuHOYER_g",
        "outputId": "67b922ed-4d34-47d5-9a00-f5758ebde462"
      },
      "execution_count": null,
      "outputs": [
        {
          "output_type": "stream",
          "name": "stdout",
          "text": [
            "('Abacaxi', 'Caju', 'Acerola', 'Manga')\n",
            "['Abacaxi', 'Caju', 'Acerola', 'Manga']\n",
            "<class 'list'>\n",
            "('Abacaxi', 'Caju', 'Acerola', 'Manga', 'Maracuja')\n",
            "<class 'tuple'>\n"
          ]
        }
      ]
    }
  ]
}