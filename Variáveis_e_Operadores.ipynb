{
  "nbformat": 4,
  "nbformat_minor": 0,
  "metadata": {
    "colab": {
      "provenance": [],
      "include_colab_link": true
    },
    "kernelspec": {
      "name": "python3",
      "display_name": "Python 3"
    },
    "language_info": {
      "name": "python"
    }
  },
  "cells": [
    {
      "cell_type": "markdown",
      "metadata": {
        "id": "view-in-github",
        "colab_type": "text"
      },
      "source": [
        "<a href=\"https://colab.research.google.com/github/glaucimara-jpg/Python.code/blob/main/Vari%C3%A1veis_e_Operadores.ipynb\" target=\"_parent\"><img src=\"https://colab.research.google.com/assets/colab-badge.svg\" alt=\"Open In Colab\"/></a>"
      ]
    },
    {
      "cell_type": "markdown",
      "source": [
        "Por que Python?\n",
        "\n",
        "- Uma das linguagens mais fáceis para o aprendizado\n",
        "- É uma linguagem nova, 1990\n",
        "- Comunidade muito engajada\n",
        "- Utilizado em várias áreas\n",
        "\n",
        "Dados (Pandas, Pyspark, Numpy)\n",
        "Desenvolvimento Web (Django, Flask)\n",
        "Automação (Selenium, Pytest, PyUnit)\n",
        "Desenvolvimento de Jogos (PyGame)\n"
      ],
      "metadata": {
        "id": "s4B4G5DoQkVU"
      }
    },
    {
      "cell_type": "code",
      "execution_count": null,
      "metadata": {
        "colab": {
          "base_uri": "https://localhost:8080/"
        },
        "id": "Vt7aaxhaPmKJ",
        "outputId": "3f80e8aa-f1d1-4c78-f0e4-2676e4b8b0dd"
      },
      "outputs": [
        {
          "output_type": "stream",
          "name": "stdout",
          "text": [
            "Olá Mundo\n",
            "Bismark 34\n"
          ]
        }
      ],
      "source": [
        "#VARIÁVEIS - Posso armazenar números (inteiros, ponto flutuante), textos, booleano\n",
        "\n",
        "print(\"Olá Mundo\")\n",
        "\n",
        "nome = 'Bismark'\n",
        "idade = 34\n",
        "altura = 1.88\n",
        "\n",
        "print(nome, idade)"
      ]
    },
    {
      "cell_type": "code",
      "source": [
        "print(type(nome))\n",
        "print(type(idade))\n",
        "print(type(altura))"
      ],
      "metadata": {
        "colab": {
          "base_uri": "https://localhost:8080/"
        },
        "id": "LbY2jsD9P1QW",
        "outputId": "f88b015d-1876-47a9-aafe-2344b8fb1dcd"
      },
      "execution_count": null,
      "outputs": [
        {
          "output_type": "stream",
          "name": "stdout",
          "text": [
            "<class 'str'>\n",
            "<class 'int'>\n",
            "<class 'float'>\n"
          ]
        }
      ]
    },
    {
      "cell_type": "code",
      "source": [
        "'''\n",
        "Deve começar com uma letra ou com sublinhado (_)\n",
        "Não utilizar caracteres especiais (*)\n",
        "Não utilizar palavras reservadas int, type\n",
        "Utilizar nomes que façam sentido\n",
        "Python é Case Sensitive(Diferencia maiúsculas de minúsculas)\n",
        "'''\n",
        "\n",
        "numero = 10\n",
        "print(NUMERO)\n",
        "nome_completo = 'Bismark William'\n",
        "nome_completo\n",
        "NomeCompletoDaPessoa\n",
        "PI = 3.14"
      ],
      "metadata": {
        "colab": {
          "base_uri": "https://localhost:8080/",
          "height": 176
        },
        "id": "XSKc59raP4a8",
        "outputId": "a1eadd92-f276-451e-bac0-1bc2a5afde4d"
      },
      "execution_count": null,
      "outputs": [
        {
          "output_type": "error",
          "ename": "NameError",
          "evalue": "name 'NUMERO' is not defined",
          "traceback": [
            "\u001b[0;31m---------------------------------------------------------------------------\u001b[0m",
            "\u001b[0;31mNameError\u001b[0m                                 Traceback (most recent call last)",
            "\u001b[0;32m<ipython-input-9-f6101fc06545>\u001b[0m in \u001b[0;36m<cell line: 9>\u001b[0;34m()\u001b[0m\n\u001b[1;32m      7\u001b[0m \u001b[0;34m\u001b[0m\u001b[0m\n\u001b[1;32m      8\u001b[0m \u001b[0mnumero\u001b[0m \u001b[0;34m=\u001b[0m \u001b[0;36m10\u001b[0m\u001b[0;34m\u001b[0m\u001b[0;34m\u001b[0m\u001b[0m\n\u001b[0;32m----> 9\u001b[0;31m \u001b[0mprint\u001b[0m \u001b[0;34m(\u001b[0m\u001b[0mNUMERO\u001b[0m\u001b[0;34m)\u001b[0m\u001b[0;34m\u001b[0m\u001b[0;34m\u001b[0m\u001b[0m\n\u001b[0m",
            "\u001b[0;31mNameError\u001b[0m: name 'NUMERO' is not defined"
          ]
        }
      ]
    },
    {
      "cell_type": "code",
      "source": [
        "#CONVERSÃO DE TIPOS\n",
        "\n",
        "n = 10 # Possui um número inteiro\n",
        "x = '10' # Possui um texto string\n",
        "'''\n",
        "int('20')\n",
        "float('10')\n",
        "str(20)\n",
        "'''\n",
        "print(type(n))\n",
        "print(type(x))\n",
        "\n",
        "n = str(n)\n",
        "print(type(n))\n",
        "\n",
        "#print(n + int(x)) # 10 + 10 = 20\n",
        "#print(str(n) + x) # '1010'\n"
      ],
      "metadata": {
        "colab": {
          "base_uri": "https://localhost:8080/"
        },
        "id": "sTqjEu7minKg",
        "outputId": "1497217f-544f-46b0-a28d-d8bfc477dd0d"
      },
      "execution_count": null,
      "outputs": [
        {
          "output_type": "stream",
          "name": "stdout",
          "text": [
            "<class 'int'>\n",
            "<class 'str'>\n",
            "<class 'str'>\n"
          ]
        }
      ]
    },
    {
      "cell_type": "code",
      "source": [
        "#ENTRADA DE DADOS\n",
        "nome = input('Digite o seu nome completo: ')\n",
        "idade = int(input('Digite a sua idade: '))\n",
        "\n",
        "print(type(nome))\n",
        "print(type(idade))\n",
        "\n",
        "print('Olá', nome, 'você tem', idade, 'anos')"
      ],
      "metadata": {
        "id": "Mmkt3YfXjd92"
      },
      "execution_count": null,
      "outputs": []
    },
    {
      "cell_type": "markdown",
      "source": [
        "OPERADORES ARITMÉTICOS\n",
        "\n",
        "+ Operador de SOMA\n",
        "- Operador de SUBTRAÇÃO\n",
        "* Multiplicação\n",
        "/ Divisão\n",
        "// Divisão Inteira\n",
        "% Resto da Divisão\n",
        "** Exponenciação"
      ],
      "metadata": {
        "id": "bey2_CdfooCU"
      }
    },
    {
      "cell_type": "code",
      "source": [
        "#SOMA\n",
        "\n",
        "numero1 = 10\n",
        "numero2 = 5\n",
        "\n",
        "soma = numero1 + numero2\n",
        "\n",
        "print(soma)"
      ],
      "metadata": {
        "colab": {
          "base_uri": "https://localhost:8080/"
        },
        "id": "_Cczz6fNpTjm",
        "outputId": "929f7e31-da5e-4f09-de6f-0e57d7b2a082"
      },
      "execution_count": null,
      "outputs": [
        {
          "output_type": "stream",
          "name": "stdout",
          "text": [
            "15\n"
          ]
        }
      ]
    },
    {
      "cell_type": "code",
      "source": [
        "#SUBTRAÇÃO\n",
        "\n",
        "numero1 = 5\n",
        "numero2 = 3\n",
        "\n",
        "sub = numero1 - numero2\n",
        "\n",
        "print(sub)"
      ],
      "metadata": {
        "colab": {
          "base_uri": "https://localhost:8080/"
        },
        "id": "rpW0vZbcpr7F",
        "outputId": "9ce3bdba-71d8-43de-9a4d-a10850475888"
      },
      "execution_count": null,
      "outputs": [
        {
          "output_type": "stream",
          "name": "stdout",
          "text": [
            "2\n"
          ]
        }
      ]
    },
    {
      "cell_type": "code",
      "source": [
        "#MULTIPLICAÇÃO\n",
        "\n",
        "numero1 = 4\n",
        "numero2 = 7\n",
        "\n",
        "mult = numero1 * numero2\n",
        "\n",
        "print(mult)"
      ],
      "metadata": {
        "colab": {
          "base_uri": "https://localhost:8080/"
        },
        "id": "rv9V3ny4p_9i",
        "outputId": "2346c10f-24f8-41bb-fd40-1f0d1020b010"
      },
      "execution_count": null,
      "outputs": [
        {
          "output_type": "stream",
          "name": "stdout",
          "text": [
            "28\n"
          ]
        }
      ]
    },
    {
      "cell_type": "code",
      "source": [
        "#DIVISÃO\n",
        "\n",
        "numero1 = 10\n",
        "numero2 = 3\n",
        "\n",
        "div = numero2 / numero1\n",
        "\n",
        "print(div)"
      ],
      "metadata": {
        "colab": {
          "base_uri": "https://localhost:8080/"
        },
        "id": "9hTv6Au5qOvA",
        "outputId": "f0516c09-a3b8-4dfc-ce85-6ffc65ac934c"
      },
      "execution_count": null,
      "outputs": [
        {
          "output_type": "stream",
          "name": "stdout",
          "text": [
            "0.3\n"
          ]
        }
      ]
    },
    {
      "cell_type": "code",
      "source": [
        "#DIVISÃO INTEIRA\n",
        "\n",
        "numero1 = 10\n",
        "numero2 = 3\n",
        "\n",
        "div = numero1 // numero2\n",
        "\n",
        "print(div)"
      ],
      "metadata": {
        "colab": {
          "base_uri": "https://localhost:8080/"
        },
        "id": "DV0qoYVwqjXU",
        "outputId": "2b24fc5c-14ab-43ba-dd68-a7362c0d9cf2"
      },
      "execution_count": null,
      "outputs": [
        {
          "output_type": "stream",
          "name": "stdout",
          "text": [
            "3\n"
          ]
        }
      ]
    },
    {
      "cell_type": "code",
      "source": [
        "#RESTO DA DIVISÃO\n",
        "\n",
        "numero1 = 20\n",
        "numero2 = 5\n",
        "\n",
        "resto = numero1 % numero2\n",
        "\n",
        "print(resto)"
      ],
      "metadata": {
        "colab": {
          "base_uri": "https://localhost:8080/"
        },
        "id": "vmOku8GZtAnu",
        "outputId": "3b554477-8453-4be2-df95-54104a978a03"
      },
      "execution_count": null,
      "outputs": [
        {
          "output_type": "stream",
          "name": "stdout",
          "text": [
            "0\n"
          ]
        }
      ]
    },
    {
      "cell_type": "code",
      "source": [
        "#EXPONENCIAÇÃO\n",
        "\n",
        "numero1 = 2\n",
        "numero2 = 3\n",
        "\n",
        "exp = numero1 ** numero2\n",
        "\n",
        "print(exp)\n"
      ],
      "metadata": {
        "colab": {
          "base_uri": "https://localhost:8080/"
        },
        "id": "4IfghFLpupXr",
        "outputId": "c72e1833-04b3-4331-8be9-6c945c70a7c6"
      },
      "execution_count": null,
      "outputs": [
        {
          "output_type": "stream",
          "name": "stdout",
          "text": [
            "8\n"
          ]
        }
      ]
    },
    {
      "cell_type": "code",
      "source": [
        "#Criem um algoritmo que leia dois números float e retorne as 4 operações básicas da matemática\n",
        "'''\n",
        "ler o primeiro número do tipo float- OK\n",
        "ler o segundo número do tipo float - OK\n",
        "\n",
        "somar o primeiro número com o segundo e jogar em uma variável soma - OK\n",
        "subtrair o primeiro número com o segundo e jogar em uma variável sub - OK\n",
        "multiplicar o primeiro número com o segundo e jogar em uma variável mult - OK\n",
        "dividir o primeiro número com o segundo e jogar em uma variável div - OK\n",
        "\n",
        "Exibir cada uma das variáveis na tela (soma, sub, mult, div) - OK\n",
        "'''\n",
        "\n",
        "numero1 = float(input(\"Digite o primeiro número: \"))\n",
        "numero2 = float(input(\"Digite o segundo número: \"))\n",
        "\n",
        "soma = numero1 + numero2\n",
        "sub = numero1 - numero2\n",
        "mult = numero1 * numero2\n",
        "div = numero1 / numero2\n",
        "\n",
        "#Números reais (float) 10.5, 10, 10.0\n",
        "\n",
        "print(\"Soma: \", soma)\n",
        "print(\"Subtração: \", sub)\n",
        "print(\"Multiplicação: \", mult)\n",
        "print(\"Divisão: \", div)"
      ],
      "metadata": {
        "colab": {
          "base_uri": "https://localhost:8080/"
        },
        "id": "OVKKJz_2yhXn",
        "outputId": "c220b98e-2336-4cae-a4b9-550a567ac6ea"
      },
      "execution_count": null,
      "outputs": [
        {
          "output_type": "stream",
          "name": "stdout",
          "text": [
            "Digite o primeiro número: 10.0\n",
            "Digite o segundo número: 10.0\n",
            "Soma:  20.0\n",
            "Subtração:  0.0\n",
            "Multiplicação:  100.0\n",
            "Divisão:  1.0\n"
          ]
        }
      ]
    },
    {
      "cell_type": "code",
      "source": [
        "#Crie um algoritmo que exiba apenas a parte decimal de uma divisão de 10 por 3\n",
        "'''\n",
        "criar uma variável que receba o valor 10 - OK\n",
        "criar uma segunda variável que receba o valor 3 - OK\n",
        "primeira_operacao = Se eu dividir o primeiro número pelo segundo / = Recebe a divisão total com os decimais\n",
        "segunda_operacao = Se eu dividir o primeiro número pelo segundo // = Recebe apenas a parte inteira da divisão\n",
        "primeira_operacao - segunda_operacao = apenas a parte decimal\n",
        "'''\n",
        "\n",
        "n1 = 10\n",
        "n2 = 3\n",
        "\n",
        "primeira_operacao = n1 / n2\n",
        "segunda_operacao = n1 // n2\n",
        "\n",
        "parte_decimal = primeira_operacao - segunda_operacao\n",
        "\n",
        "print(\"Resultado da primeira operação: \", primeira_operacao)\n",
        "print(\"Resultado da segunda operação: \", segunda_operacao)\n",
        "print(\"Parte Decimal: \", parte_decimal)"
      ],
      "metadata": {
        "colab": {
          "base_uri": "https://localhost:8080/"
        },
        "id": "XDZFDvBey-Mw",
        "outputId": "a3f696c2-7f81-4594-e152-e863e5547a0e"
      },
      "execution_count": null,
      "outputs": [
        {
          "output_type": "stream",
          "name": "stdout",
          "text": [
            "Resultado da primeira operação:  3.3333333333333335\n",
            "Resultado da segunda operação:  3\n",
            "Parte Decimal:  0.3333333333333335\n"
          ]
        }
      ]
    },
    {
      "cell_type": "code",
      "source": [
        "#Operador Maior que\n",
        "\n",
        "maior = 6 > 4 #Retorna True\n",
        "\n",
        "print(type(maior))\n",
        "print(maior)"
      ],
      "metadata": {
        "colab": {
          "base_uri": "https://localhost:8080/"
        },
        "id": "oLL6hLS0_IAa",
        "outputId": "70617b45-51f1-46eb-f2a5-1f22909b907d"
      },
      "execution_count": null,
      "outputs": [
        {
          "output_type": "stream",
          "name": "stdout",
          "text": [
            "<class 'bool'>\n",
            "True\n"
          ]
        }
      ]
    }
  ]
}